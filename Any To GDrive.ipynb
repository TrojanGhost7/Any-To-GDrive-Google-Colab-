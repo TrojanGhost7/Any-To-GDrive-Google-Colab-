{
  "nbformat": 4,
  "nbformat_minor": 0,
  "metadata": {
    "colab": {
      "name": "Download link.ipynb",
      "provenance": [],
      "collapsed_sections": []
    },
    "kernelspec": {
      "name": "python3",
      "display_name": "Python 3"
    }
  },
  "cells": [
    {
      "cell_type": "markdown",
      "metadata": {
        "id": "ICBMgbGuFmpj"
      },
      "source": [
        "# Mount Drive"
      ]
    },
    {
      "cell_type": "markdown",
      "metadata": {
        "id": "plCuExNkfxFn"
      },
      "source": [
        "Mount or Unmount your Gdrive..."
      ]
    },
    {
      "cell_type": "code",
      "metadata": {
        "id": "EMIXihVhPSrf",
        "cellView": "form",
        "outputId": "8d3872ca-7457-42e8-8642-6dad20cafbc3",
        "colab": {
          "base_uri": "https://localhost:8080/",
          "height": 35
        }
      },
      "source": [
        "#@markdown <br><center><img src='https://upload.wikimedia.org/wikipedia/commons/thumb/d/da/Google_Drive_logo.png/600px-Google_Drive_logo.png' height=\"50\" alt=\"Gdrive-logo\"/></center>\n",
        "#@markdown <center><h3>Mount Gdrive</h3></center><br>\n",
        "MODE = \"MOUNT\" #@param [\"MOUNT\", \"UNMOUNT\"]\n",
        "#Mount your Gdrive! \n",
        "from google.colab import drive\n",
        "drive.mount._DEBUG = False\n",
        "if MODE == \"MOUNT\":\n",
        "  drive.mount('/content/drive', force_remount=True)\n",
        "elif MODE == \"UNMOUNT\":\n",
        "  try:\n",
        "    drive.flush_and_unmount()\n",
        "  except ValueError:\n",
        "    pass\n",
        "  get_ipython().system_raw(\"rm -rf /root/.config/Google/DriveFS\")"
      ],
      "execution_count": null,
      "outputs": [
        {
          "output_type": "stream",
          "text": [
            "Mounted at /content/drive\n"
          ],
          "name": "stdout"
        }
      ]
    },
    {
      "cell_type": "markdown",
      "metadata": {
        "id": "IHB0T7k4FstY"
      },
      "source": [
        "# URL Download"
      ]
    },
    {
      "cell_type": "markdown",
      "metadata": {
        "id": "ExIZOdYgfFbC"
      },
      "source": [
        "Just paste the URL of the file you want to download & the path where you want to save it..."
      ]
    },
    {
      "cell_type": "code",
      "metadata": {
        "cellView": "form",
        "id": "I3eCdd-uG0II"
      },
      "source": [
        "#@markdown <br><center><h3>URL Downloader</center></h3><br>\n",
        "import os\n",
        "URL = \"\" #@param {type : \"string\"}\n",
        "PATH = \"\" #@param {type:\"string\"}\n",
        "os.chdir(PATH) \n",
        "!wget -c {URL} --no-check-certificate\n"
      ],
      "execution_count": null,
      "outputs": []
    },
    {
      "cell_type": "markdown",
      "metadata": {
        "id": "waLUDvd7FxdV"
      },
      "source": [
        "# Torrent Download"
      ]
    },
    {
      "cell_type": "markdown",
      "metadata": {
        "id": "D7ak6_Zd-Dxy"
      },
      "source": [
        "**If you have .torrent file convert it to magnet by using the website [torrent2magnet.com](https://)**"
      ]
    },
    {
      "cell_type": "code",
      "metadata": {
        "id": "k2XTYSwR83E-",
        "cellView": "form"
      },
      "source": [
        "#@markdown <br><center><h3>Run this before using torrents<h3><center><br>\n",
        "!apt install python3-libtorrent"
      ],
      "execution_count": null,
      "outputs": []
    },
    {
      "cell_type": "code",
      "metadata": {
        "id": "qnHeVI9o8WpY",
        "cellView": "form"
      },
      "source": [
        "#@markdown <br><center><h3>Torrent Downloader</center></h3><br>\n",
        "import libtorrent as lt\n",
        "import time\n",
        "import datetime\n",
        "\n",
        "MAGNET = \"\" #@param {type : \"string\"}\n",
        "PATH = '' #@param {type : \"string\"}\n",
        "\n",
        "ses = lt.session()\n",
        "ses.listen_on(6881, 6891)\n",
        "params = {\n",
        "    'save_path': PATH,\n",
        "    'storage_mode': lt.storage_mode_t(2),\n",
        "    'paused': False,\n",
        "    'auto_managed': True,\n",
        "    'duplicate_is_error': True}\n",
        "link = MAGNET\n",
        "print(link)\n",
        "\n",
        "handle = lt.add_magnet_uri(ses, link, params)\n",
        "ses.start_dht()\n",
        "\n",
        "begin = time.time()\n",
        "print(datetime.datetime.now())\n",
        "\n",
        "print ('Downloading Metadata...')\n",
        "while (not handle.has_metadata()):\n",
        "    time.sleep(1)\n",
        "print ('Got Metadata, Starting Torrent Download...')\n",
        "\n",
        "print(\"Starting\", handle.name())\n",
        "\n",
        "while (handle.status().state != lt.torrent_status.seeding):\n",
        "    s = handle.status()\n",
        "    state_str = ['queued', 'checking', 'downloading metadata', \\\n",
        "            'downloading', 'finished', 'seeding', 'allocating']\n",
        "    print ('%.2f%% complete (down: %.1f kb/s up: %.1f kB/s peers: %d) %s ' % \\\n",
        "            (s.progress * 100, s.download_rate / 1000, s.upload_rate / 1000, \\\n",
        "            s.num_peers, state_str[s.state]))\n",
        "    time.sleep(5)\n",
        "\n",
        "end = time.time()\n",
        "print(handle.name(), \"COMPLETE\")\n",
        "\n",
        "print(\"Elapsed Time: \",int((end-begin)//60),\"min :\", int((end-begin)%60), \"sec\")\n",
        "\n",
        "print(datetime.datetime.now())"
      ],
      "execution_count": null,
      "outputs": []
    }
  ]
}